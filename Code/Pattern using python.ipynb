{
 "cells": [
  {
   "cell_type": "code",
   "execution_count": 5,
   "id": "fallen-orientation",
   "metadata": {},
   "outputs": [
    {
     "name": "stdout",
     "output_type": "stream",
     "text": [
      "Enter number of rows:5\n",
      "1 \n",
      "1 2 \n",
      "1 2 3 \n",
      "1 2 3 4 \n",
      "1 2 3 4 5 \n"
     ]
    }
   ],
   "source": [
    "#PATTERN 1\n",
    "rows=int(input(\"Enter number of rows:\"))\n",
    "#each_number will be 1 in first iteration and then 2 and so on\n",
    "for each_number in range(1,rows+1):\t\n",
    "#printing number will be in range (1 , i+1) i.e  (1,2) but 2 is excluded so only 1 will be printed , likewise the rest\t\n",
    "\tfor printing_pattern in range(1,each_number+1):\t\t\n",
    "\t\tprint(printing_pattern,end=\" \")\t\t\t\t#The print() function inserts a new line at the end, by default In Python 3, end =\" \" appends space instead of newline.\t\t\t\n",
    "\tprint()\n",
    "\t"
   ]
  },
  {
   "cell_type": "code",
   "execution_count": 6,
   "id": "reserved-shannon",
   "metadata": {},
   "outputs": [
    {
     "name": "stdout",
     "output_type": "stream",
     "text": [
      "Enter number of rows:5\n",
      "1\n",
      "22\n",
      "333\n",
      "4444\n",
      "55555\n"
     ]
    }
   ],
   "source": [
    "#PATTERN 2\n",
    "rows=int(input(\"Enter number of rows:\"))\t\n",
    "for each_number in range(1,rows+1):\t\n",
    "\tfor printing_pattern in range(1,each_number+1):\t\t\n",
    "\t\tprint(each_number,end=\"\")\t\t\t\n",
    "\tprint()\n",
    "\n",
    "\n",
    "\n",
    "\n",
    "\n",
    "\n"
   ]
  },
  {
   "cell_type": "code",
   "execution_count": 7,
   "id": "behind-lemon",
   "metadata": {},
   "outputs": [
    {
     "name": "stdout",
     "output_type": "stream",
     "text": [
      "Enter number of rows:5\n",
      "55555\n",
      "4444\n",
      "333\n",
      "22\n",
      "1\n"
     ]
    }
   ],
   "source": [
    "##PATTERN 3\n",
    "rows=int(input(\"Enter number of rows:\"))\t\n",
    "for each_number in range(rows,0,-1):\t\n",
    "\tfor printing_pattern in range(1,each_number+1):\t\t\n",
    "\t\tprint(each_number,end=\"\")\t\t\t\n",
    "\tprint()\n",
    "\n",
    "\n",
    "\n",
    "\n",
    "\n",
    "\n",
    "\n",
    "\n",
    "\n"
   ]
  },
  {
   "cell_type": "code",
   "execution_count": 8,
   "id": "radical-holiday",
   "metadata": {
    "scrolled": true
   },
   "outputs": [
    {
     "name": "stdout",
     "output_type": "stream",
     "text": [
      "Enter number of rows:5\n",
      "* \n",
      "* * \n",
      "* * * \n",
      "* * * * \n",
      "* * * * * \n"
     ]
    }
   ],
   "source": [
    "\n",
    "##PATTERN 4\n",
    "rows=int(input(\"Enter number of rows:\"))\n",
    "for each_number in range(1,rows+1):\n",
    "\tfor printing_pattern in range(1,each_number+1):\n",
    "\t\tprint(\"*\", end=\" \")\n",
    "\tprint()\n",
    "\n",
    "\n",
    "\n",
    "\n",
    "\n"
   ]
  },
  {
   "cell_type": "markdown",
   "id": "multiple-symbol",
   "metadata": {},
   "source": [
    "# Pattern 5"
   ]
  },
  {
   "cell_type": "code",
   "execution_count": 10,
   "id": "automotive-tracker",
   "metadata": {},
   "outputs": [
    {
     "name": "stdout",
     "output_type": "stream",
     "text": [
      "Enter number of rows:5\n",
      "* * * * * \n",
      "* * * * \n",
      "* * * \n",
      "* * \n",
      "* \n"
     ]
    }
   ],
   "source": [
    "##PATTERN 5 , this pattern is reverse of the above program but the for loop is different compared to it ,it has one step included more in it  i.e  step\n",
    "rows=int(input(\"Enter number of rows:\"))\n",
    "for each_number in range(rows,0,-1):\n",
    "##the -1 is used for decremented loop \n",
    "\tfor printing_pattern in range(1,each_number+1):\n",
    "\t\tprint(\"*\", end=\" \") \n",
    "\tprint()\n",
    "\n",
    " \n",
    "\n",
    "\n",
    "\n",
    "\n"
   ]
  },
  {
   "cell_type": "markdown",
   "id": "least-period",
   "metadata": {},
   "source": [
    "# Pattern 6"
   ]
  },
  {
   "cell_type": "code",
   "execution_count": 11,
   "id": "spoken-kernel",
   "metadata": {},
   "outputs": [
    {
     "name": "stdout",
     "output_type": "stream",
     "text": [
      "Enter number of rows:5\n",
      "        * \n",
      "      * * \n",
      "    * * * \n",
      "  * * * * \n",
      "* * * * * \n"
     ]
    }
   ],
   "source": [
    "##PATTERN 6\n",
    "rows=int(input(\"Enter number of rows:\"))\n",
    "for each_number in range(1,rows+1):\n",
    "\tfor empty_space in range(1,rows +1- each_number):\n",
    "\t\tprint(\" \", end=\" \")\n",
    "\tfor printing_pattern in range(1,each_number+1):\n",
    "\t\tprint(\"*\", end=\" \")\n",
    "\tprint()\n",
    "\n",
    "\n",
    "\n",
    "\n",
    "\n",
    "\n",
    "\n"
   ]
  },
  {
   "cell_type": "code",
   "execution_count": 12,
   "id": "closing-terrorism",
   "metadata": {},
   "outputs": [
    {
     "name": "stdout",
     "output_type": "stream",
     "text": [
      "Enter number of rows:5\n",
      "* * * * * \n",
      "  * * * * \n",
      "    * * * \n",
      "      * * \n",
      "        * \n"
     ]
    }
   ],
   "source": [
    "##PATTERN 7\n",
    "rows=int(input(\"Enter number of rows:\"))\n",
    "for each_number in range(rows,0,-1):\n",
    "\tfor empty_space in range(1,rows +1-each_number):\n",
    "\t\tprint(\" \", end=\" \")\n",
    "\tfor printing_pattern in range(1,each_number+1):\n",
    "\t\tprint(\"*\", end=\" \")\n",
    "\tprint()\n",
    "\n",
    "\n",
    "\n",
    "\n",
    "\n",
    "\n",
    "\n",
    "\n",
    "\n"
   ]
  },
  {
   "cell_type": "code",
   "execution_count": 13,
   "id": "tender-therapist",
   "metadata": {},
   "outputs": [
    {
     "name": "stdout",
     "output_type": "stream",
     "text": [
      "Enter number of rows:5\n",
      "        * \n",
      "      * * * \n",
      "    * * * * * \n",
      "  * * * * * * * \n",
      "* * * * * * * * * \n"
     ]
    }
   ],
   "source": [
    "##PATTERN 8\n",
    "rows=int(input(\"Enter number of rows:\"))\n",
    "for each_number in range(1,rows+1):\n",
    "\tfor empty_space in range(1,rows +1- each_number):\n",
    "\t\tprint(\" \", end=\" \")\n",
    "\tfor printing_pattern in range(1, ( 2*each_number-1)+1):\n",
    "\t\tprint(\"*\", end=\" \")\n",
    "\tprint()\n",
    "\n",
    "\n",
    "\n",
    "\n",
    "\n",
    "\n"
   ]
  },
  {
   "cell_type": "code",
   "execution_count": 14,
   "id": "certain-corrections",
   "metadata": {},
   "outputs": [
    {
     "name": "stdout",
     "output_type": "stream",
     "text": [
      "Enter number of rows:5\n",
      "* * * * * * * * * \n",
      "  * * * * * * * \n",
      "    * * * * * \n",
      "      * * * \n",
      "        * \n"
     ]
    }
   ],
   "source": [
    "##PATTTERN 9\n",
    "rows=int(input(\"Enter number of rows:\"))\n",
    "for each_number in range(rows,0,-1):\n",
    "\tfor empty_space in range(1,rows +1- each_number):\n",
    "\t\tprint(\" \", end=\" \")\n",
    "\tfor printing_pattern in range(1, ( 2*each_number-1)+1):\n",
    "\t\tprint(\"*\", end=\" \")\n",
    "\tprint()"
   ]
  }
 ],
 "metadata": {
  "kernelspec": {
   "display_name": "Python 3",
   "language": "python",
   "name": "python3"
  },
  "language_info": {
   "codemirror_mode": {
    "name": "ipython",
    "version": 3
   },
   "file_extension": ".py",
   "mimetype": "text/x-python",
   "name": "python",
   "nbconvert_exporter": "python",
   "pygments_lexer": "ipython3",
   "version": "3.7.2"
  }
 },
 "nbformat": 4,
 "nbformat_minor": 5
}
